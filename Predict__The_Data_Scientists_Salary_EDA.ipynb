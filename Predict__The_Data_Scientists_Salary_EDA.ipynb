{
  "nbformat": 4,
  "nbformat_minor": 0,
  "metadata": {
    "colab": {
      "name": "Predict _The_Data_Scientists_Salary_In_India_Hackathon.ipynb",
      "provenance": [],
      "collapsed_sections": []
    },
    "kernelspec": {
      "name": "python3",
      "display_name": "Python 3"
    },
    "language_info": {
      "name": "python"
    }
  },
  "cells": [
    {
      "cell_type": "code",
      "metadata": {
        "id": "QFtrfQw7e_rG"
      },
      "source": [
        "#Salary_Data_Scientist Predection"
      ],
      "execution_count": 1,
      "outputs": []
    },
    {
      "cell_type": "code",
      "metadata": {
        "id": "Esp0p6GhkWe1"
      },
      "source": [
        "import pandas as pd\n",
        "import numpy as np\n",
        "import seaborn as sns\n",
        "import matplotlib.pyplot as plt\n",
        "import matplotlib_inline"
      ],
      "execution_count": 2,
      "outputs": []
    },
    {
      "cell_type": "code",
      "metadata": {
        "id": "oy-Cac2ttrdz"
      },
      "source": [
        "df_Train =pd.read_csv('/content/Final_Train_Dataset.csv')\n",
        "df_Test =pd.read_csv('/content/Final_Test_Dataset.csv')"
      ],
      "execution_count": 3,
      "outputs": []
    },
    {
      "cell_type": "code",
      "metadata": {
        "colab": {
          "base_uri": "https://localhost:8080/",
          "height": 493
        },
        "id": "u2d4ZlIrWQzr",
        "outputId": "efd7ed1a-07df-4b85-c95b-40c5f85d3c28"
      },
      "source": [
        "df_Train.head()"
      ],
      "execution_count": 6,
      "outputs": [
        {
          "output_type": "execute_result",
          "data": {
            "text/html": [
              "<div>\n",
              "<style scoped>\n",
              "    .dataframe tbody tr th:only-of-type {\n",
              "        vertical-align: middle;\n",
              "    }\n",
              "\n",
              "    .dataframe tbody tr th {\n",
              "        vertical-align: top;\n",
              "    }\n",
              "\n",
              "    .dataframe thead th {\n",
              "        text-align: right;\n",
              "    }\n",
              "</style>\n",
              "<table border=\"1\" class=\"dataframe\">\n",
              "  <thead>\n",
              "    <tr style=\"text-align: right;\">\n",
              "      <th></th>\n",
              "      <th>Unnamed: 0</th>\n",
              "      <th>experience</th>\n",
              "      <th>job_description</th>\n",
              "      <th>job_desig</th>\n",
              "      <th>job_type</th>\n",
              "      <th>key_skills</th>\n",
              "      <th>location</th>\n",
              "      <th>salary</th>\n",
              "      <th>company_name_encoded</th>\n",
              "    </tr>\n",
              "  </thead>\n",
              "  <tbody>\n",
              "    <tr>\n",
              "      <th>0</th>\n",
              "      <td>0</td>\n",
              "      <td>5-7 yrs</td>\n",
              "      <td>Exp: Minimum 5 years;Good understanding of IOC...</td>\n",
              "      <td>Senior Exploit and Vulnerability Researcher</td>\n",
              "      <td>NaN</td>\n",
              "      <td>team skills, communication skills, analytical ...</td>\n",
              "      <td>Delhi NCR(Vikas Puri)</td>\n",
              "      <td>6to10</td>\n",
              "      <td>3687</td>\n",
              "    </tr>\n",
              "    <tr>\n",
              "      <th>1</th>\n",
              "      <td>1</td>\n",
              "      <td>10-17 yrs</td>\n",
              "      <td>He should have handled a team of atleast 5-6 d...</td>\n",
              "      <td>Head SCM</td>\n",
              "      <td>NaN</td>\n",
              "      <td>ppc, logistics, inventory management, supply c...</td>\n",
              "      <td>Sonepat</td>\n",
              "      <td>10to15</td>\n",
              "      <td>458</td>\n",
              "    </tr>\n",
              "    <tr>\n",
              "      <th>2</th>\n",
              "      <td>2</td>\n",
              "      <td>5-9 yrs</td>\n",
              "      <td>Must be an effective communicator (written &amp; s...</td>\n",
              "      <td>Deputy Manager - Talent Management &amp; Leadershi...</td>\n",
              "      <td>Analytics</td>\n",
              "      <td>HR Analytics, Employee Engagement, Training, S...</td>\n",
              "      <td>Delhi NCR</td>\n",
              "      <td>15to25</td>\n",
              "      <td>4195</td>\n",
              "    </tr>\n",
              "    <tr>\n",
              "      <th>3</th>\n",
              "      <td>3</td>\n",
              "      <td>7-10 yrs</td>\n",
              "      <td>7  -  10 years of overall experience in data e...</td>\n",
              "      <td>Associate Manager Data Engineering</td>\n",
              "      <td>Analytics</td>\n",
              "      <td>SQL, Javascript, Automation, Python, Ruby, Ana...</td>\n",
              "      <td>Bengaluru</td>\n",
              "      <td>10to15</td>\n",
              "      <td>313</td>\n",
              "    </tr>\n",
              "    <tr>\n",
              "      <th>4</th>\n",
              "      <td>4</td>\n",
              "      <td>1-3 yrs</td>\n",
              "      <td>Chartered Accountancy degree or MBA in Finance...</td>\n",
              "      <td>TS- GSA- Senior Analyst</td>\n",
              "      <td>NaN</td>\n",
              "      <td>accounting, finance, cash flow, financial plan...</td>\n",
              "      <td>Gurgaon</td>\n",
              "      <td>3to6</td>\n",
              "      <td>1305</td>\n",
              "    </tr>\n",
              "  </tbody>\n",
              "</table>\n",
              "</div>"
            ],
            "text/plain": [
              "   Unnamed: 0 experience  ...  salary company_name_encoded\n",
              "0           0    5-7 yrs  ...   6to10                 3687\n",
              "1           1  10-17 yrs  ...  10to15                  458\n",
              "2           2    5-9 yrs  ...  15to25                 4195\n",
              "3           3   7-10 yrs  ...  10to15                  313\n",
              "4           4    1-3 yrs  ...    3to6                 1305\n",
              "\n",
              "[5 rows x 9 columns]"
            ]
          },
          "metadata": {
            "tags": []
          },
          "execution_count": 6
        }
      ]
    },
    {
      "cell_type": "code",
      "metadata": {
        "colab": {
          "base_uri": "https://localhost:8080/"
        },
        "id": "VuYGsbN7Wazt",
        "outputId": "4399bae7-6534-4df0-b0f1-3c4236cee692"
      },
      "source": [
        "df_Train.shape"
      ],
      "execution_count": 7,
      "outputs": [
        {
          "output_type": "execute_result",
          "data": {
            "text/plain": [
              "(19802, 9)"
            ]
          },
          "metadata": {
            "tags": []
          },
          "execution_count": 7
        }
      ]
    },
    {
      "cell_type": "code",
      "metadata": {
        "colab": {
          "base_uri": "https://localhost:8080/"
        },
        "id": "uui7KN8lWyuP",
        "outputId": "875297ab-6ac5-4cdd-a07c-096ad4a9ec8c"
      },
      "source": [
        "print('Columns_Training_Set:',df_Train.columns)\n",
        "print('Columns_Testing_Set:',df_Test.columns)"
      ],
      "execution_count": 8,
      "outputs": [
        {
          "output_type": "stream",
          "text": [
            "Columns_Training_Set: Index(['Unnamed: 0', 'experience', 'job_description', 'job_desig', 'job_type',\n",
            "       'key_skills', 'location', 'salary', 'company_name_encoded'],\n",
            "      dtype='object')\n",
            "Columns_Testing_Set: Index(['experience', 'job_description', 'job_desig', 'job_type', 'key_skills',\n",
            "       'location', 'company_name_encoded'],\n",
            "      dtype='object')\n"
          ],
          "name": "stdout"
        }
      ]
    },
    {
      "cell_type": "code",
      "metadata": {
        "colab": {
          "base_uri": "https://localhost:8080/"
        },
        "id": "0tBj8Si0XHHM",
        "outputId": "af828eae-e57a-4ab6-9497-d55c676cb12c"
      },
      "source": [
        "df_Train.isnull().count()"
      ],
      "execution_count": 56,
      "outputs": [
        {
          "output_type": "execute_result",
          "data": {
            "text/plain": [
              "Unnamed: 0              19801\n",
              "experience              19801\n",
              "job_description         19801\n",
              "job_desig               19801\n",
              "job_type                19801\n",
              "key_skills              19801\n",
              "location                19801\n",
              "salary                  19801\n",
              "company_name_encoded    19801\n",
              "min_exp                 19801\n",
              "max_exp                 19801\n",
              "skills_cleaned          19801\n",
              "desig_cleaned           19801\n",
              "clean_descp             19801\n",
              "clean_loc               19801\n",
              "dtype: int64"
            ]
          },
          "metadata": {
            "tags": []
          },
          "execution_count": 56
        }
      ]
    },
    {
      "cell_type": "code",
      "metadata": {
        "colab": {
          "base_uri": "https://localhost:8080/"
        },
        "id": "qJkhOwedwz-4",
        "outputId": "07ae38f6-c558-4329-d561-35bb807d5b47"
      },
      "source": [
        "df_Train.info()"
      ],
      "execution_count": 57,
      "outputs": [
        {
          "output_type": "stream",
          "text": [
            "<class 'pandas.core.frame.DataFrame'>\n",
            "Int64Index: 19801 entries, 0 to 19801\n",
            "Data columns (total 15 columns):\n",
            " #   Column                Non-Null Count  Dtype \n",
            "---  ------                --------------  ----- \n",
            " 0   Unnamed: 0            19801 non-null  int64 \n",
            " 1   experience            19801 non-null  object\n",
            " 2   job_description       19801 non-null  object\n",
            " 3   job_desig             19801 non-null  object\n",
            " 4   job_type              19801 non-null  object\n",
            " 5   key_skills            19801 non-null  object\n",
            " 6   location              19801 non-null  object\n",
            " 7   salary                19801 non-null  object\n",
            " 8   company_name_encoded  19801 non-null  int64 \n",
            " 9   min_exp               19801 non-null  int64 \n",
            " 10  max_exp               19801 non-null  int64 \n",
            " 11  skills_cleaned        19801 non-null  object\n",
            " 12  desig_cleaned         19801 non-null  object\n",
            " 13  clean_descp           19801 non-null  object\n",
            " 14  clean_loc             19801 non-null  object\n",
            "dtypes: int64(4), object(11)\n",
            "memory usage: 3.0+ MB\n"
          ],
          "name": "stdout"
        }
      ]
    },
    {
      "cell_type": "code",
      "metadata": {
        "colab": {
          "base_uri": "https://localhost:8080/"
        },
        "id": "euUpQrL-w4Dt",
        "outputId": "e09446c7-4021-433f-a18d-74689a5e79d0"
      },
      "source": [
        "df_Test.info()"
      ],
      "execution_count": 58,
      "outputs": [
        {
          "output_type": "stream",
          "text": [
            "<class 'pandas.core.frame.DataFrame'>\n",
            "RangeIndex: 6601 entries, 0 to 6600\n",
            "Data columns (total 13 columns):\n",
            " #   Column                Non-Null Count  Dtype \n",
            "---  ------                --------------  ----- \n",
            " 0   experience            6601 non-null   object\n",
            " 1   job_description       6601 non-null   object\n",
            " 2   job_desig             6601 non-null   object\n",
            " 3   job_type              6601 non-null   object\n",
            " 4   key_skills            6601 non-null   object\n",
            " 5   location              6601 non-null   object\n",
            " 6   company_name_encoded  6601 non-null   int64 \n",
            " 7   min_exp               6601 non-null   int64 \n",
            " 8   max_exp               6601 non-null   int64 \n",
            " 9   skills_cleaned        6601 non-null   object\n",
            " 10  desig_cleaned         6601 non-null   object\n",
            " 11  clean_descp           6600 non-null   object\n",
            " 12  clean_loc             6601 non-null   object\n",
            "dtypes: int64(3), object(10)\n",
            "memory usage: 670.5+ KB\n"
          ],
          "name": "stdout"
        }
      ]
    },
    {
      "cell_type": "code",
      "metadata": {
        "colab": {
          "base_uri": "https://localhost:8080/",
          "height": 415
        },
        "id": "tRJQaRwwXPyC",
        "outputId": "49bcd6a7-7812-4a03-f89a-a7a4381d34d3"
      },
      "source": [
        "plt.subplot(1,2,1)\n",
        "plt.title('Is_null_Train')\n",
        "sns.heatmap(df_Train.isnull(),cbar=False,yticklabels=False,annot=False,cmap='Dark2_r')\n",
        "plt.subplot(1,2,2)\n",
        "plt.title('Is_null_Test')\n",
        "sns.heatmap(df_Test.isnull(),cbar=False,yticklabels=False,annot=False,cmap='Dark2_r')"
      ],
      "execution_count": 10,
      "outputs": [
        {
          "output_type": "execute_result",
          "data": {
            "text/plain": [
              "<matplotlib.axes._subplots.AxesSubplot at 0x7fc85ebef450>"
            ]
          },
          "metadata": {
            "tags": []
          },
          "execution_count": 10
        },
        {
          "output_type": "display_data",
          "data": {
            "image/png": "[encoded data removed]",
            "text/plain": [
              "<Figure size 432x288 with 2 Axes>"
            ]
          },
          "metadata": {
            "tags": [],
            "needs_background": "light"
          }
        }
      ]
    },
    {
      "cell_type": "code",
      "metadata": {
        "colab": {
          "base_uri": "https://localhost:8080/"
        },
        "id": "8RRYejQUfdTU",
        "outputId": "2fb0e6dc-80b0-4b03-b8ca-7cfd0d5f03f6"
      },
      "source": [
        "df_Train['job_type'].unique()"
      ],
      "execution_count": 11,
      "outputs": [
        {
          "output_type": "execute_result",
          "data": {
            "text/plain": [
              "array([nan, 'Analytics', 'analytics', 'Analytic', 'ANALYTICS', 'analytic'],\n",
              "      dtype=object)"
            ]
          },
          "metadata": {
            "tags": []
          },
          "execution_count": 11
        }
      ]
    },
    {
      "cell_type": "code",
      "metadata": {
        "colab": {
          "base_uri": "https://localhost:8080/"
        },
        "id": "QWyWjFuPfrgV",
        "outputId": "f36a5f38-04fa-4aab-e9f1-20a9396bd4aa"
      },
      "source": [
        "df_Train['job_description'].nunique()"
      ],
      "execution_count": 12,
      "outputs": [
        {
          "output_type": "execute_result",
          "data": {
            "text/plain": [
              "9059"
            ]
          },
          "metadata": {
            "tags": []
          },
          "execution_count": 12
        }
      ]
    },
    {
      "cell_type": "code",
      "metadata": {
        "colab": {
          "base_uri": "https://localhost:8080/"
        },
        "id": "cfP2jINVf5Wh",
        "outputId": "ffcec2d5-7d9b-4a46-d486-a21844c53ec1"
      },
      "source": [
        "df_Train['location'].unique()"
      ],
      "execution_count": 13,
      "outputs": [
        {
          "output_type": "execute_result",
          "data": {
            "text/plain": [
              "array(['Delhi NCR(Vikas Puri)', 'Sonepat', 'Delhi NCR', ...,\n",
              "       'Bengaluru, Mumbai, Gurgaon, Gurugram', 'Amravati',\n",
              "       'Mumbai, Bengaluru, Chennai, Hyderabad, Dehradun, Gurgaon'],\n",
              "      dtype=object)"
            ]
          },
          "metadata": {
            "tags": []
          },
          "execution_count": 13
        }
      ]
    },
    {
      "cell_type": "code",
      "metadata": {
        "colab": {
          "base_uri": "https://localhost:8080/"
        },
        "id": "9U8Wzqopge93",
        "outputId": "c4e05911-efbb-4258-8b4b-3374fefd5f7d"
      },
      "source": [
        "df_Train.nunique()"
      ],
      "execution_count": 14,
      "outputs": [
        {
          "output_type": "execute_result",
          "data": {
            "text/plain": [
              "Unnamed: 0              19802\n",
              "experience                129\n",
              "job_description          9059\n",
              "job_desig               11708\n",
              "job_type                    5\n",
              "key_skills              12951\n",
              "location                 1504\n",
              "salary                      6\n",
              "company_name_encoded     5035\n",
              "dtype: int64"
            ]
          },
          "metadata": {
            "tags": []
          },
          "execution_count": 14
        }
      ]
    },
    {
      "cell_type": "code",
      "metadata": {
        "colab": {
          "base_uri": "https://localhost:8080/"
        },
        "id": "6dBHc3LDgs_P",
        "outputId": "954c80a3-8e53-4c18-a7d9-0f712de7ac16"
      },
      "source": [
        "df_Train.shape"
      ],
      "execution_count": 15,
      "outputs": [
        {
          "output_type": "execute_result",
          "data": {
            "text/plain": [
              "(19802, 9)"
            ]
          },
          "metadata": {
            "tags": []
          },
          "execution_count": 15
        }
      ]
    },
    {
      "cell_type": "code",
      "metadata": {
        "colab": {
          "base_uri": "https://localhost:8080/"
        },
        "id": "h6WmuEdZhBUg",
        "outputId": "087fd417-fde5-49b1-ac56-2407fa7ab8bb"
      },
      "source": [
        "df_Train['salary'].describe()"
      ],
      "execution_count": 16,
      "outputs": [
        {
          "output_type": "execute_result",
          "data": {
            "text/plain": [
              "count      19802\n",
              "unique         6\n",
              "top       10to15\n",
              "freq        4500\n",
              "Name: salary, dtype: object"
            ]
          },
          "metadata": {
            "tags": []
          },
          "execution_count": 16
        }
      ]
    },
    {
      "cell_type": "code",
      "metadata": {
        "colab": {
          "base_uri": "https://localhost:8080/"
        },
        "id": "AizjMo2OhMn6",
        "outputId": "66388bf6-3718-418f-efd6-2394f9be5bd9"
      },
      "source": [
        "df_Train['salary'].unique()"
      ],
      "execution_count": 26,
      "outputs": [
        {
          "output_type": "execute_result",
          "data": {
            "text/plain": [
              "array(['6to10', '10to15', '15to25', '3to6', '25to50', '0to3'],\n",
              "      dtype=object)"
            ]
          },
          "metadata": {
            "tags": []
          },
          "execution_count": 26
        }
      ]
    },
    {
      "cell_type": "code",
      "metadata": {
        "colab": {
          "base_uri": "https://localhost:8080/"
        },
        "id": "0ISvqbJiECwq",
        "outputId": "e4bccb2e-8d34-4c4a-fa08-80e9a01dd3f5"
      },
      "source": [
        "df_Train['salary']"
      ],
      "execution_count": 88,
      "outputs": [
        {
          "output_type": "execute_result",
          "data": {
            "text/plain": [
              "0         6to10\n",
              "1        10to15\n",
              "2        15to25\n",
              "3        10to15\n",
              "4          3to6\n",
              "          ...  \n",
              "19797    15to25\n",
              "19798      0to3\n",
              "19799    15to25\n",
              "19800    10to15\n",
              "19801    10to15\n",
              "Name: salary, Length: 19801, dtype: object"
            ]
          },
          "metadata": {
            "tags": []
          },
          "execution_count": 88
        }
      ]
    },
    {
      "cell_type": "code",
      "metadata": {
        "id": "g8Zvvwl1hYNn"
      },
      "source": [
        "df_Train.drop(['Unnamed: 0'],axis=1,inplace =True)"
      ],
      "execution_count": 91,
      "outputs": []
    },
    {
      "cell_type": "code",
      "metadata": {
        "colab": {
          "base_uri": "https://localhost:8080/"
        },
        "id": "ISXRiOEklgNM",
        "outputId": "084c9b7c-78a6-4296-9233-63358c028923"
      },
      "source": [
        "df_Train['experience'].unique()"
      ],
      "execution_count": 19,
      "outputs": [
        {
          "output_type": "execute_result",
          "data": {
            "text/plain": [
              "array(['5-7 yrs', '10-17 yrs', '5-9 yrs', '7-10 yrs', '1-3 yrs',\n",
              "       '5-10 yrs', '13-15 yrs', '6-10 yrs', '2-6 yrs', '3-7 yrs',\n",
              "       '10-12 yrs', '2-4 yrs', '1-6 yrs', '3-6 yrs', '5-8 yrs', '4-9 yrs',\n",
              "       '3-5 yrs', '1-5 yrs', '8-12 yrs', '1-4 yrs', '10-20 yrs',\n",
              "       '2-5 yrs', '6-11 yrs', '4-8 yrs', '3-4 yrs', '2-7 yrs', '7-12 yrs',\n",
              "       '7-8 yrs', '14-16 yrs', '8-10 yrs', '0-5 yrs', '10-14 yrs',\n",
              "       '8-11 yrs', '12-20 yrs', '3-8 yrs', '1-2 yrs', '8-13 yrs',\n",
              "       '9-12 yrs', '10-15 yrs', '0-2 yrs', '11-15 yrs', '15-25 yrs',\n",
              "       '6-9 yrs', '12-15 yrs', '0-3 yrs', '4-7 yrs', '4-6 yrs',\n",
              "       '14-20 yrs', '2-3 yrs', '9-14 yrs', '12-17 yrs', '15-20 yrs',\n",
              "       '0-1 yrs', '0-0 yrs', '12-16 yrs', '6-8 yrs', '0-4 yrs',\n",
              "       '20-30 yrs', '7-9 yrs', '17-23 yrs', '4-5 yrs', '12-18 yrs',\n",
              "       '10-16 yrs', '6-7 yrs', '10-18 yrs', '12-22 yrs', '15-24 yrs',\n",
              "       '2-2 yrs', '8-9 yrs', '14-24 yrs', '13-23 yrs', '10-13 yrs',\n",
              "       '1-1 yrs', '9-13 yrs', '15-18 yrs', '11-18 yrs', '7-11 yrs',\n",
              "       '10-19 yrs', '11-14 yrs', '9-11 yrs', '5-6 yrs', '11-17 yrs',\n",
              "       '12-14 yrs', '13-17 yrs', '13-20 yrs', '11-20 yrs', '11-13 yrs',\n",
              "       '9-10 yrs', '15-16 yrs', '18-25 yrs', '13-18 yrs', '15-22 yrs',\n",
              "       '11-16 yrs', '15-17 yrs', '20-28 yrs', '14-21 yrs', '14-15 yrs',\n",
              "       '10-10 yrs', '13-14 yrs', '14-18 yrs', '19-25 yrs', '13-19 yrs',\n",
              "       '16-26 yrs', '14-22 yrs', '18-22 yrs', '18-20 yrs', '11-12 yrs',\n",
              "       '20-22 yrs', '13-16 yrs', '14-17 yrs', '15-21 yrs', '8-8 yrs',\n",
              "       '12-19 yrs', '16-20 yrs', '14-19 yrs', '19-23 yrs', '11-21 yrs',\n",
              "       '10-11 yrs', '5-5 yrs', '17-24 yrs', '12-13 yrs', '4-4 yrs',\n",
              "       '16-18 yrs', '16-22 yrs', '20-26 yrs', '17-19 yrs', '17-25 yrs',\n",
              "       '20-25 yrs', '23-30 yrs'], dtype=object)"
            ]
          },
          "metadata": {
            "tags": []
          },
          "execution_count": 19
        }
      ]
    },
    {
      "cell_type": "code",
      "metadata": {
        "id": "KQl13XIs_eoB"
      },
      "source": [
        "import re\n",
        "def min_exp(exp):\n",
        "    val = re.sub(r'\\-',' ', exp)\n",
        "    val = val.split(' ')\n",
        "    val = int(val[0])\n",
        "    return val\n",
        "\n",
        "def max_exp(exp):\n",
        "    val = re.sub(r'\\-',' ', exp)\n",
        "    val = val.split(' ')\n",
        "    val = int(val[1])\n",
        "    return val\n",
        "\n",
        "df_Train['min_exp'] = df_Train['experience'].apply(min_exp)\n",
        "df_Train['max_exp'] = df_Train['experience'].apply(max_exp)\n",
        "\n",
        "df_Test['min_exp'] = df_Test['experience'].apply(min_exp)\n",
        "df_Test['max_exp'] = df_Test['experience'].apply(max_exp)"
      ],
      "execution_count": 15,
      "outputs": []
    },
    {
      "cell_type": "code",
      "metadata": {
        "colab": {
          "base_uri": "https://localhost:8080/"
        },
        "id": "YggRHCt0gNbG",
        "outputId": "a3afce98-cbed-48e8-f7b4-4f566b21d376"
      },
      "source": [
        "df_Test['job_type'].unique()"
      ],
      "execution_count": 18,
      "outputs": [
        {
          "output_type": "execute_result",
          "data": {
            "text/plain": [
              "array([nan, 'Analytics', 'analytics', 'ANALYTICS', 'Analytic', 'analytic'],\n",
              "      dtype=object)"
            ]
          },
          "metadata": {
            "tags": []
          },
          "execution_count": 18
        }
      ]
    },
    {
      "cell_type": "code",
      "metadata": {
        "id": "rzxa6e-hgUuf"
      },
      "source": [
        "#making common_job_type\n",
        "df_Train['job_type'].fillna('No_job_type',inplace=True)\n",
        "df_Train['job_type'].replace('analytics','Analytics',inplace=True)\n",
        "df_Train['job_type'].replace('ANALYTICS','Analytics',inplace=True)\n",
        "df_Train['job_type'].replace('Analytic','Analytics',inplace=True)\n",
        "df_Train['job_type'].replace('analytic','Analytics',inplace=True)\n",
        "\n",
        "df_Test['job_type'].fillna('No_job_type',inplace=True)\n",
        "df_Test['job_type'].replace('analytics','Analytics',inplace=True)\n",
        "df_Test['job_type'].replace('ANALYTICS','Analytics',inplace=True)\n",
        "df_Test['job_type'].replace('Analytic','Analytics',inplace=True)\n",
        "df_Test['job_type'].replace('analytic','Analytics',inplace=True)"
      ],
      "execution_count": 21,
      "outputs": []
    },
    {
      "cell_type": "code",
      "metadata": {
        "colab": {
          "base_uri": "https://localhost:8080/"
        },
        "id": "sFaPbgxNiwuw",
        "outputId": "62eeae1d-a12e-4b4f-e7f7-24bfb06d9c2e"
      },
      "source": [
        "df_Train['job_type'].unique()"
      ],
      "execution_count": 23,
      "outputs": [
        {
          "output_type": "execute_result",
          "data": {
            "text/plain": [
              "array(['No_job_type', 'Analytics'], dtype=object)"
            ]
          },
          "metadata": {
            "tags": []
          },
          "execution_count": 23
        }
      ]
    },
    {
      "cell_type": "code",
      "metadata": {
        "colab": {
          "base_uri": "https://localhost:8080/"
        },
        "id": "qmiPpLl7tGki",
        "outputId": "e4c55d0d-47fd-4a61-de3c-1e607aa6740d"
      },
      "source": [
        "df_Train['key_skills'].value_counts()"
      ],
      "execution_count": 25,
      "outputs": [
        {
          "output_type": "execute_result",
          "data": {
            "text/plain": [
              "part time, freelancing, data entry, present job, work from home...             84\n",
              "SAS, Sdtm, Adam, Statistical Programming, Statistics, Life Sciences...         21\n",
              "Fraud Analytics, People Management Skills, Team Leading, Problem Solving...    18\n",
              "business analysis, System Analyst, Business Analyst...                         17\n",
              "Communication Skills, Analytical, Problem Solving, itil solving...             16\n",
              "                                                                               ..\n",
              "sas sql, data analysis, excel, predictive modeling, data extraction...          1\n",
              "data governance, data analysis, data analytics, market data...                  1\n",
              "auditing, client servicing, data analytics, internal audit...                   1\n",
              "User Research, Visual Design, UX, Prototyping, Usability Testing...             1\n",
              "Training, Legal Issues                                                          1\n",
              "Name: key_skills, Length: 12951, dtype: int64"
            ]
          },
          "metadata": {
            "tags": []
          },
          "execution_count": 25
        }
      ]
    },
    {
      "cell_type": "code",
      "metadata": {
        "id": "6yaBiruijNzE"
      },
      "source": [
        "df_Train = df_Train.dropna(subset=['key_skills'])"
      ],
      "execution_count": 26,
      "outputs": []
    },
    {
      "cell_type": "code",
      "metadata": {
        "colab": {
          "base_uri": "https://localhost:8080/"
        },
        "id": "uKDlSSaGjpOj",
        "outputId": "2b8f59e4-b81b-4438-fa30-316f12ec6265"
      },
      "source": [
        "def clean_skills(skl):\n",
        "    skills = str(skl).lower()\n",
        "    skills = re.sub(r'\\...','', skills)\n",
        "    skills = re.sub(r',','', skills)\n",
        "    skills = re.sub(r'\\s+', ' ', skills)\n",
        "    return skills\n",
        "\n",
        "df_Train['skills_cleaned'] = df_Train['key_skills'].apply(clean_skills)\n",
        "df_Test['skills_cleaned'] = df_Test['key_skills'].apply(clean_skills)"
      ],
      "execution_count": 28,
      "outputs": [
        {
          "output_type": "stream",
          "text": [
            "/usr/local/lib/python3.7/dist-packages/ipykernel_launcher.py:8: SettingWithCopyWarning: \n",
            "A value is trying to be set on a copy of a slice from a DataFrame.\n",
            "Try using .loc[row_indexer,col_indexer] = value instead\n",
            "\n",
            "See the caveats in the documentation: https://pandas.pydata.org/pandas-docs/stable/user_guide/indexing.html#returning-a-view-versus-a-copy\n",
            "  \n"
          ],
          "name": "stderr"
        }
      ]
    },
    {
      "cell_type": "code",
      "metadata": {
        "colab": {
          "base_uri": "https://localhost:8080/"
        },
        "id": "I2noNf4UlzEZ",
        "outputId": "9ef46ace-0f3e-45ee-e22a-d9f4ad14832d"
      },
      "source": [
        "df_Train['job_desig'].unique()"
      ],
      "execution_count": 34,
      "outputs": [
        {
          "output_type": "execute_result",
          "data": {
            "text/plain": [
              "array(['Senior Exploit and Vulnerability Researcher', 'Head SCM',\n",
              "       'Deputy Manager - Talent Management & Leadership Development - Auto',\n",
              "       ..., 'Principal Software Engineer - IT',\n",
              "       'Opening for CA Fresher | Amravati',\n",
              "       'Unity 3D Developer - Mobile Games Development'], dtype=object)"
            ]
          },
          "metadata": {
            "tags": []
          },
          "execution_count": 34
        }
      ]
    },
    {
      "cell_type": "code",
      "metadata": {
        "id": "gZPFz6IxlyCA"
      },
      "source": [
        "#cleaning dataset function\n",
        "def clean_job(desig):\n",
        "    job_desig = desig.lower()\n",
        "    job_desig = re.sub(r'[^a-z]', ' ', job_desig)\n",
        "    job_desig = re.sub(r'\\s+', ' ', job_desig)\n",
        "    return job_desig"
      ],
      "execution_count": 39,
      "outputs": []
    },
    {
      "cell_type": "code",
      "metadata": {
        "colab": {
          "base_uri": "https://localhost:8080/"
        },
        "id": "GHC_EbKPqiTu",
        "outputId": "b30157d2-336a-49ea-b3c3-9b64791d10c4"
      },
      "source": [
        "#job_desig cleaning\n",
        "df_Train['desig_cleaned'] = df_Train['job_desig'].apply(clean_job)\n",
        "df_Test['desig_cleaned'] = df_Test['job_desig'].apply(clean_job)\n",
        "\n",
        "#handle missing\n",
        "df_Train['job_description'].fillna('missing', inplace=True)\n",
        "df_Test['job_description'].fillna('missing', inplace=True)\n",
        "#job_description cleaning\n",
        "df_Train['clean_descp'] =df_Train['job_description'].apply(clean_job)\n",
        "df_Test['clean_descp'] =df_Train['job_description'].apply(clean_job)\n",
        "\n",
        "#location cleaning\n",
        "df_Train['clean_loc'] =df_Train['location'].apply(clean_job)\n",
        "df_Test['clean_loc'] =df_Test['location'].apply(clean_job)"
      ],
      "execution_count": 43,
      "outputs": [
        {
          "output_type": "stream",
          "text": [
            "/usr/local/lib/python3.7/dist-packages/ipykernel_launcher.py:2: SettingWithCopyWarning: \n",
            "A value is trying to be set on a copy of a slice from a DataFrame.\n",
            "Try using .loc[row_indexer,col_indexer] = value instead\n",
            "\n",
            "See the caveats in the documentation: https://pandas.pydata.org/pandas-docs/stable/user_guide/indexing.html#returning-a-view-versus-a-copy\n",
            "  \n",
            "/usr/local/lib/python3.7/dist-packages/pandas/core/series.py:4536: SettingWithCopyWarning: \n",
            "A value is trying to be set on a copy of a slice from a DataFrame\n",
            "\n",
            "See the caveats in the documentation: https://pandas.pydata.org/pandas-docs/stable/user_guide/indexing.html#returning-a-view-versus-a-copy\n",
            "  downcast=downcast,\n",
            "/usr/local/lib/python3.7/dist-packages/ipykernel_launcher.py:9: SettingWithCopyWarning: \n",
            "A value is trying to be set on a copy of a slice from a DataFrame.\n",
            "Try using .loc[row_indexer,col_indexer] = value instead\n",
            "\n",
            "See the caveats in the documentation: https://pandas.pydata.org/pandas-docs/stable/user_guide/indexing.html#returning-a-view-versus-a-copy\n",
            "  if __name__ == '__main__':\n",
            "/usr/local/lib/python3.7/dist-packages/ipykernel_launcher.py:13: SettingWithCopyWarning: \n",
            "A value is trying to be set on a copy of a slice from a DataFrame.\n",
            "Try using .loc[row_indexer,col_indexer] = value instead\n",
            "\n",
            "See the caveats in the documentation: https://pandas.pydata.org/pandas-docs/stable/user_guide/indexing.html#returning-a-view-versus-a-copy\n",
            "  del sys.path[0]\n"
          ],
          "name": "stderr"
        }
      ]
    },
    {
      "cell_type": "code",
      "metadata": {
        "colab": {
          "base_uri": "https://localhost:8080/"
        },
        "id": "AP6dYf5zmaEY",
        "outputId": "b69a8e3d-c536-4f8b-eb90-3da9ef91982a"
      },
      "source": [
        "df_Train['job_desig'].value_counts()"
      ],
      "execution_count": 37,
      "outputs": [
        {
          "output_type": "execute_result",
          "data": {
            "text/plain": [
              "Business Analyst                                                        148\n",
              "Data Scientist                                                           84\n",
              "Data Analyst                                                             67\n",
              "Product Manager                                                          60\n",
              "Home Base Job/ Data Entry/online Work/part Time Work/freelancer work     58\n",
              "                                                                       ... \n",
              "Walk in for Research Analyst @ Ryan India Tax Services Pvt. Ltd.walk      1\n",
              "Quality Analyst - Call Centre/bpo - Telugu / Tamil - Bangalore            1\n",
              "Walk In - Associate Operations (voice Process- English) Day Shift         1\n",
              "Vestas - Hiring for Lead Data Scientist                                   1\n",
              "SMO Expert                                                                1\n",
              "Name: job_desig, Length: 11707, dtype: int64"
            ]
          },
          "metadata": {
            "tags": []
          },
          "execution_count": 37
        }
      ]
    },
    {
      "cell_type": "code",
      "metadata": {
        "colab": {
          "base_uri": "https://localhost:8080/",
          "height": 564
        },
        "id": "gwRCB1XCjrEk",
        "outputId": "8ce7d144-7e4f-4e86-9034-6978744df56f"
      },
      "source": [
        "df_Train.head()"
      ],
      "execution_count": 44,
      "outputs": [
        {
          "output_type": "execute_result",
          "data": {
            "text/html": [
              "<div>\n",
              "<style scoped>\n",
              "    .dataframe tbody tr th:only-of-type {\n",
              "        vertical-align: middle;\n",
              "    }\n",
              "\n",
              "    .dataframe tbody tr th {\n",
              "        vertical-align: top;\n",
              "    }\n",
              "\n",
              "    .dataframe thead th {\n",
              "        text-align: right;\n",
              "    }\n",
              "</style>\n",
              "<table border=\"1\" class=\"dataframe\">\n",
              "  <thead>\n",
              "    <tr style=\"text-align: right;\">\n",
              "      <th></th>\n",
              "      <th>Unnamed: 0</th>\n",
              "      <th>experience</th>\n",
              "      <th>job_description</th>\n",
              "      <th>job_desig</th>\n",
              "      <th>job_type</th>\n",
              "      <th>key_skills</th>\n",
              "      <th>location</th>\n",
              "      <th>salary</th>\n",
              "      <th>company_name_encoded</th>\n",
              "      <th>min_exp</th>\n",
              "      <th>max_exp</th>\n",
              "      <th>skills_cleaned</th>\n",
              "      <th>desig_cleaned</th>\n",
              "      <th>clean_descp</th>\n",
              "      <th>clean_loc</th>\n",
              "    </tr>\n",
              "  </thead>\n",
              "  <tbody>\n",
              "    <tr>\n",
              "      <th>0</th>\n",
              "      <td>0</td>\n",
              "      <td>5-7 yrs</td>\n",
              "      <td>Exp: Minimum 5 years;Good understanding of IOC...</td>\n",
              "      <td>Senior Exploit and Vulnerability Researcher</td>\n",
              "      <td>No_job_type</td>\n",
              "      <td>team skills, communication skills, analytical ...</td>\n",
              "      <td>Delhi NCR(Vikas Puri)</td>\n",
              "      <td>6to10</td>\n",
              "      <td>3687</td>\n",
              "      <td>5</td>\n",
              "      <td>7</td>\n",
              "      <td>team skills communication skills analytical sk...</td>\n",
              "      <td>senior exploit and vulnerability researcher</td>\n",
              "      <td>exp minimum years good understanding of ioc ru...</td>\n",
              "      <td>delhi ncr vikas puri</td>\n",
              "    </tr>\n",
              "    <tr>\n",
              "      <th>1</th>\n",
              "      <td>1</td>\n",
              "      <td>10-17 yrs</td>\n",
              "      <td>He should have handled a team of atleast 5-6 d...</td>\n",
              "      <td>Head SCM</td>\n",
              "      <td>No_job_type</td>\n",
              "      <td>ppc, logistics, inventory management, supply c...</td>\n",
              "      <td>Sonepat</td>\n",
              "      <td>10to15</td>\n",
              "      <td>458</td>\n",
              "      <td>10</td>\n",
              "      <td>17</td>\n",
              "      <td>ppc logistics inventory management supply chai...</td>\n",
              "      <td>head scm</td>\n",
              "      <td>he should have handled a team of atleast direc...</td>\n",
              "      <td>sonepat</td>\n",
              "    </tr>\n",
              "    <tr>\n",
              "      <th>2</th>\n",
              "      <td>2</td>\n",
              "      <td>5-9 yrs</td>\n",
              "      <td>Must be an effective communicator (written &amp; s...</td>\n",
              "      <td>Deputy Manager - Talent Management &amp; Leadershi...</td>\n",
              "      <td>Analytics</td>\n",
              "      <td>HR Analytics, Employee Engagement, Training, S...</td>\n",
              "      <td>Delhi NCR</td>\n",
              "      <td>15to25</td>\n",
              "      <td>4195</td>\n",
              "      <td>5</td>\n",
              "      <td>9</td>\n",
              "      <td>hr analytics employee engagement training succ...</td>\n",
              "      <td>deputy manager talent management leadership de...</td>\n",
              "      <td>must be an effective communicator written spok...</td>\n",
              "      <td>delhi ncr</td>\n",
              "    </tr>\n",
              "    <tr>\n",
              "      <th>3</th>\n",
              "      <td>3</td>\n",
              "      <td>7-10 yrs</td>\n",
              "      <td>7  -  10 years of overall experience in data e...</td>\n",
              "      <td>Associate Manager Data Engineering</td>\n",
              "      <td>Analytics</td>\n",
              "      <td>SQL, Javascript, Automation, Python, Ruby, Ana...</td>\n",
              "      <td>Bengaluru</td>\n",
              "      <td>10to15</td>\n",
              "      <td>313</td>\n",
              "      <td>7</td>\n",
              "      <td>10</td>\n",
              "      <td>sql javascript automation python ruby analytic...</td>\n",
              "      <td>associate manager data engineering</td>\n",
              "      <td>years of overall experience in data engineeri...</td>\n",
              "      <td>bengaluru</td>\n",
              "    </tr>\n",
              "    <tr>\n",
              "      <th>4</th>\n",
              "      <td>4</td>\n",
              "      <td>1-3 yrs</td>\n",
              "      <td>Chartered Accountancy degree or MBA in Finance...</td>\n",
              "      <td>TS- GSA- Senior Analyst</td>\n",
              "      <td>No_job_type</td>\n",
              "      <td>accounting, finance, cash flow, financial plan...</td>\n",
              "      <td>Gurgaon</td>\n",
              "      <td>3to6</td>\n",
              "      <td>1305</td>\n",
              "      <td>1</td>\n",
              "      <td>3</td>\n",
              "      <td>accounting finance cash flow financial plannin...</td>\n",
              "      <td>ts gsa senior analyst</td>\n",
              "      <td>chartered accountancy degree or mba in finance...</td>\n",
              "      <td>gurgaon</td>\n",
              "    </tr>\n",
              "  </tbody>\n",
              "</table>\n",
              "</div>"
            ],
            "text/plain": [
              "   Unnamed: 0  ...              clean_loc\n",
              "0           0  ...  delhi ncr vikas puri \n",
              "1           1  ...                sonepat\n",
              "2           2  ...              delhi ncr\n",
              "3           3  ...              bengaluru\n",
              "4           4  ...                gurgaon\n",
              "\n",
              "[5 rows x 15 columns]"
            ]
          },
          "metadata": {
            "tags": []
          },
          "execution_count": 44
        }
      ]
    },
    {
      "cell_type": "code",
      "metadata": {
        "colab": {
          "base_uri": "https://localhost:8080/"
        },
        "id": "ccoNSkGIukmx",
        "outputId": "48681f48-6176-441f-b910-ce9b3ae739db"
      },
      "source": [
        "df_Train.columns"
      ],
      "execution_count": 45,
      "outputs": [
        {
          "output_type": "execute_result",
          "data": {
            "text/plain": [
              "Index(['Unnamed: 0', 'experience', 'job_description', 'job_desig', 'job_type',\n",
              "       'key_skills', 'location', 'salary', 'company_name_encoded', 'min_exp',\n",
              "       'max_exp', 'skills_cleaned', 'desig_cleaned', 'clean_descp',\n",
              "       'clean_loc'],\n",
              "      dtype='object')"
            ]
          },
          "metadata": {
            "tags": []
          },
          "execution_count": 45
        }
      ]
    },
    {
      "cell_type": "code",
      "metadata": {
        "colab": {
          "base_uri": "https://localhost:8080/"
        },
        "id": "lDCGqJqlu7Hg",
        "outputId": "541426e5-e9e2-41d2-bcf8-3e5d7f034fa7"
      },
      "source": [
        "df_Test.columns"
      ],
      "execution_count": 47,
      "outputs": [
        {
          "output_type": "execute_result",
          "data": {
            "text/plain": [
              "Index(['experience', 'job_description', 'job_desig', 'job_type', 'key_skills',\n",
              "       'location', 'company_name_encoded', 'min_exp', 'max_exp',\n",
              "       'skills_cleaned', 'desig_cleaned', 'clean_descp', 'clean_loc'],\n",
              "      dtype='object')"
            ]
          },
          "metadata": {
            "tags": []
          },
          "execution_count": 47
        }
      ]
    },
    {
      "cell_type": "code",
      "metadata": {
        "id": "ZviEkrXOkLth"
      },
      "source": [
        "train =df_Train.iloc[:,7:]\n",
        "test =df_Test.iloc[:,6:]"
      ],
      "execution_count": 65,
      "outputs": []
    },
    {
      "cell_type": "code",
      "metadata": {
        "colab": {
          "base_uri": "https://localhost:8080/",
          "height": 374
        },
        "id": "a0UpilFkvHjY",
        "outputId": "2449e043-2cf1-4944-942b-1b7ce919e99b"
      },
      "source": [
        "train.head()"
      ],
      "execution_count": 66,
      "outputs": [
        {
          "output_type": "execute_result",
          "data": {
            "text/html": [
              "<div>\n",
              "<style scoped>\n",
              "    .dataframe tbody tr th:only-of-type {\n",
              "        vertical-align: middle;\n",
              "    }\n",
              "\n",
              "    .dataframe tbody tr th {\n",
              "        vertical-align: top;\n",
              "    }\n",
              "\n",
              "    .dataframe thead th {\n",
              "        text-align: right;\n",
              "    }\n",
              "</style>\n",
              "<table border=\"1\" class=\"dataframe\">\n",
              "  <thead>\n",
              "    <tr style=\"text-align: right;\">\n",
              "      <th></th>\n",
              "      <th>salary</th>\n",
              "      <th>company_name_encoded</th>\n",
              "      <th>min_exp</th>\n",
              "      <th>max_exp</th>\n",
              "      <th>skills_cleaned</th>\n",
              "      <th>desig_cleaned</th>\n",
              "      <th>clean_descp</th>\n",
              "      <th>clean_loc</th>\n",
              "    </tr>\n",
              "  </thead>\n",
              "  <tbody>\n",
              "    <tr>\n",
              "      <th>0</th>\n",
              "      <td>6to10</td>\n",
              "      <td>3687</td>\n",
              "      <td>5</td>\n",
              "      <td>7</td>\n",
              "      <td>team skills communication skills analytical sk...</td>\n",
              "      <td>senior exploit and vulnerability researcher</td>\n",
              "      <td>exp minimum years good understanding of ioc ru...</td>\n",
              "      <td>delhi ncr vikas puri</td>\n",
              "    </tr>\n",
              "    <tr>\n",
              "      <th>1</th>\n",
              "      <td>10to15</td>\n",
              "      <td>458</td>\n",
              "      <td>10</td>\n",
              "      <td>17</td>\n",
              "      <td>ppc logistics inventory management supply chai...</td>\n",
              "      <td>head scm</td>\n",
              "      <td>he should have handled a team of atleast direc...</td>\n",
              "      <td>sonepat</td>\n",
              "    </tr>\n",
              "    <tr>\n",
              "      <th>2</th>\n",
              "      <td>15to25</td>\n",
              "      <td>4195</td>\n",
              "      <td>5</td>\n",
              "      <td>9</td>\n",
              "      <td>hr analytics employee engagement training succ...</td>\n",
              "      <td>deputy manager talent management leadership de...</td>\n",
              "      <td>must be an effective communicator written spok...</td>\n",
              "      <td>delhi ncr</td>\n",
              "    </tr>\n",
              "    <tr>\n",
              "      <th>3</th>\n",
              "      <td>10to15</td>\n",
              "      <td>313</td>\n",
              "      <td>7</td>\n",
              "      <td>10</td>\n",
              "      <td>sql javascript automation python ruby analytic...</td>\n",
              "      <td>associate manager data engineering</td>\n",
              "      <td>years of overall experience in data engineeri...</td>\n",
              "      <td>bengaluru</td>\n",
              "    </tr>\n",
              "    <tr>\n",
              "      <th>4</th>\n",
              "      <td>3to6</td>\n",
              "      <td>1305</td>\n",
              "      <td>1</td>\n",
              "      <td>3</td>\n",
              "      <td>accounting finance cash flow financial plannin...</td>\n",
              "      <td>ts gsa senior analyst</td>\n",
              "      <td>chartered accountancy degree or mba in finance...</td>\n",
              "      <td>gurgaon</td>\n",
              "    </tr>\n",
              "  </tbody>\n",
              "</table>\n",
              "</div>"
            ],
            "text/plain": [
              "   salary  ...              clean_loc\n",
              "0   6to10  ...  delhi ncr vikas puri \n",
              "1  10to15  ...                sonepat\n",
              "2  15to25  ...              delhi ncr\n",
              "3  10to15  ...              bengaluru\n",
              "4    3to6  ...                gurgaon\n",
              "\n",
              "[5 rows x 8 columns]"
            ]
          },
          "metadata": {
            "tags": []
          },
          "execution_count": 66
        }
      ]
    },
    {
      "cell_type": "code",
      "metadata": {
        "colab": {
          "base_uri": "https://localhost:8080/",
          "height": 374
        },
        "id": "Q90CrCM3wcYU",
        "outputId": "7ccbecce-bb10-4c19-fd0f-037f429cee63"
      },
      "source": [
        "test.head()"
      ],
      "execution_count": 67,
      "outputs": [
        {
          "output_type": "execute_result",
          "data": {
            "text/html": [
              "<div>\n",
              "<style scoped>\n",
              "    .dataframe tbody tr th:only-of-type {\n",
              "        vertical-align: middle;\n",
              "    }\n",
              "\n",
              "    .dataframe tbody tr th {\n",
              "        vertical-align: top;\n",
              "    }\n",
              "\n",
              "    .dataframe thead th {\n",
              "        text-align: right;\n",
              "    }\n",
              "</style>\n",
              "<table border=\"1\" class=\"dataframe\">\n",
              "  <thead>\n",
              "    <tr style=\"text-align: right;\">\n",
              "      <th></th>\n",
              "      <th>company_name_encoded</th>\n",
              "      <th>min_exp</th>\n",
              "      <th>max_exp</th>\n",
              "      <th>skills_cleaned</th>\n",
              "      <th>desig_cleaned</th>\n",
              "      <th>clean_descp</th>\n",
              "      <th>clean_loc</th>\n",
              "    </tr>\n",
              "  </thead>\n",
              "  <tbody>\n",
              "    <tr>\n",
              "      <th>0</th>\n",
              "      <td>2066</td>\n",
              "      <td>7</td>\n",
              "      <td>12</td>\n",
              "      <td>java j2ee tomcat jboss weblogic oracle elastic...</td>\n",
              "      <td>it technology senior consultant java j ee seve...</td>\n",
              "      <td>exp minimum years good understanding of ioc ru...</td>\n",
              "      <td>bengaluru</td>\n",
              "    </tr>\n",
              "    <tr>\n",
              "      <th>1</th>\n",
              "      <td>2629</td>\n",
              "      <td>0</td>\n",
              "      <td>5</td>\n",
              "      <td>medical billing insurance processing</td>\n",
              "      <td>medical billing process international kpo insu...</td>\n",
              "      <td>he should have handled a team of atleast direc...</td>\n",
              "      <td>ahmedabad sola</td>\n",
              "    </tr>\n",
              "    <tr>\n",
              "      <th>2</th>\n",
              "      <td>2448</td>\n",
              "      <td>3</td>\n",
              "      <td>6</td>\n",
              "      <td>oracle sales functional consultancy troublesho...</td>\n",
              "      <td>oracle sales cloud functional consultant</td>\n",
              "      <td>must be an effective communicator written spok...</td>\n",
              "      <td>bengaluru</td>\n",
              "    </tr>\n",
              "    <tr>\n",
              "      <th>3</th>\n",
              "      <td>2711</td>\n",
              "      <td>0</td>\n",
              "      <td>3</td>\n",
              "      <td>offline online internet part time home base wo...</td>\n",
              "      <td>looking for freshers who want to work with us</td>\n",
              "      <td>years of overall experience in data engineeri...</td>\n",
              "      <td>delhi ncr chennai hyderabad gurgaon lucknow mu...</td>\n",
              "    </tr>\n",
              "    <tr>\n",
              "      <th>4</th>\n",
              "      <td>40</td>\n",
              "      <td>0</td>\n",
              "      <td>5</td>\n",
              "      <td>voice support analytical skills process associ...</td>\n",
              "      <td>process associate sr process associate tech as...</td>\n",
              "      <td>chartered accountancy degree or mba in finance...</td>\n",
              "      <td>hyderabad</td>\n",
              "    </tr>\n",
              "  </tbody>\n",
              "</table>\n",
              "</div>"
            ],
            "text/plain": [
              "   company_name_encoded  ...                                          clean_loc\n",
              "0                  2066  ...                                          bengaluru\n",
              "1                  2629  ...                                    ahmedabad sola \n",
              "2                  2448  ...                                          bengaluru\n",
              "3                  2711  ...  delhi ncr chennai hyderabad gurgaon lucknow mu...\n",
              "4                    40  ...                                          hyderabad\n",
              "\n",
              "[5 rows x 7 columns]"
            ]
          },
          "metadata": {
            "tags": []
          },
          "execution_count": 67
        }
      ]
    },
    {
      "cell_type": "code",
      "metadata": {
        "colab": {
          "base_uri": "https://localhost:8080/",
          "height": 297
        },
        "id": "5mY6NgpTwkIS",
        "outputId": "e29814cb-f53d-40c3-f7b2-77f91285519c"
      },
      "source": [
        "train.describe()"
      ],
      "execution_count": 68,
      "outputs": [
        {
          "output_type": "execute_result",
          "data": {
            "text/html": [
              "<div>\n",
              "<style scoped>\n",
              "    .dataframe tbody tr th:only-of-type {\n",
              "        vertical-align: middle;\n",
              "    }\n",
              "\n",
              "    .dataframe tbody tr th {\n",
              "        vertical-align: top;\n",
              "    }\n",
              "\n",
              "    .dataframe thead th {\n",
              "        text-align: right;\n",
              "    }\n",
              "</style>\n",
              "<table border=\"1\" class=\"dataframe\">\n",
              "  <thead>\n",
              "    <tr style=\"text-align: right;\">\n",
              "      <th></th>\n",
              "      <th>company_name_encoded</th>\n",
              "      <th>min_exp</th>\n",
              "      <th>max_exp</th>\n",
              "    </tr>\n",
              "  </thead>\n",
              "  <tbody>\n",
              "    <tr>\n",
              "      <th>count</th>\n",
              "      <td>19801.000000</td>\n",
              "      <td>19801.000000</td>\n",
              "      <td>19801.000000</td>\n",
              "    </tr>\n",
              "    <tr>\n",
              "      <th>mean</th>\n",
              "      <td>2379.637190</td>\n",
              "      <td>4.337508</td>\n",
              "      <td>8.085804</td>\n",
              "    </tr>\n",
              "    <tr>\n",
              "      <th>std</th>\n",
              "      <td>1475.329177</td>\n",
              "      <td>3.351537</td>\n",
              "      <td>4.243481</td>\n",
              "    </tr>\n",
              "    <tr>\n",
              "      <th>min</th>\n",
              "      <td>0.000000</td>\n",
              "      <td>0.000000</td>\n",
              "      <td>0.000000</td>\n",
              "    </tr>\n",
              "    <tr>\n",
              "      <th>25%</th>\n",
              "      <td>1067.000000</td>\n",
              "      <td>2.000000</td>\n",
              "      <td>5.000000</td>\n",
              "    </tr>\n",
              "    <tr>\n",
              "      <th>50%</th>\n",
              "      <td>2225.000000</td>\n",
              "      <td>4.000000</td>\n",
              "      <td>7.000000</td>\n",
              "    </tr>\n",
              "    <tr>\n",
              "      <th>75%</th>\n",
              "      <td>3621.000000</td>\n",
              "      <td>6.000000</td>\n",
              "      <td>10.000000</td>\n",
              "    </tr>\n",
              "    <tr>\n",
              "      <th>max</th>\n",
              "      <td>5034.000000</td>\n",
              "      <td>23.000000</td>\n",
              "      <td>30.000000</td>\n",
              "    </tr>\n",
              "  </tbody>\n",
              "</table>\n",
              "</div>"
            ],
            "text/plain": [
              "       company_name_encoded       min_exp       max_exp\n",
              "count          19801.000000  19801.000000  19801.000000\n",
              "mean            2379.637190      4.337508      8.085804\n",
              "std             1475.329177      3.351537      4.243481\n",
              "min                0.000000      0.000000      0.000000\n",
              "25%             1067.000000      2.000000      5.000000\n",
              "50%             2225.000000      4.000000      7.000000\n",
              "75%             3621.000000      6.000000     10.000000\n",
              "max             5034.000000     23.000000     30.000000"
            ]
          },
          "metadata": {
            "tags": []
          },
          "execution_count": 68
        }
      ]
    },
    {
      "cell_type": "code",
      "metadata": {
        "colab": {
          "base_uri": "https://localhost:8080/",
          "height": 297
        },
        "id": "gDVsliFQw-kG",
        "outputId": "2e9b4337-175f-4c0a-dc59-32b4a48ab7a7"
      },
      "source": [
        "test.describe()"
      ],
      "execution_count": 69,
      "outputs": [
        {
          "output_type": "execute_result",
          "data": {
            "text/html": [
              "<div>\n",
              "<style scoped>\n",
              "    .dataframe tbody tr th:only-of-type {\n",
              "        vertical-align: middle;\n",
              "    }\n",
              "\n",
              "    .dataframe tbody tr th {\n",
              "        vertical-align: top;\n",
              "    }\n",
              "\n",
              "    .dataframe thead th {\n",
              "        text-align: right;\n",
              "    }\n",
              "</style>\n",
              "<table border=\"1\" class=\"dataframe\">\n",
              "  <thead>\n",
              "    <tr style=\"text-align: right;\">\n",
              "      <th></th>\n",
              "      <th>company_name_encoded</th>\n",
              "      <th>min_exp</th>\n",
              "      <th>max_exp</th>\n",
              "    </tr>\n",
              "  </thead>\n",
              "  <tbody>\n",
              "    <tr>\n",
              "      <th>count</th>\n",
              "      <td>6601.000000</td>\n",
              "      <td>6601.000000</td>\n",
              "      <td>6601.000000</td>\n",
              "    </tr>\n",
              "    <tr>\n",
              "      <th>mean</th>\n",
              "      <td>1319.330707</td>\n",
              "      <td>4.264051</td>\n",
              "      <td>7.991819</td>\n",
              "    </tr>\n",
              "    <tr>\n",
              "      <th>std</th>\n",
              "      <td>808.158350</td>\n",
              "      <td>3.331820</td>\n",
              "      <td>4.210189</td>\n",
              "    </tr>\n",
              "    <tr>\n",
              "      <th>min</th>\n",
              "      <td>0.000000</td>\n",
              "      <td>0.000000</td>\n",
              "      <td>0.000000</td>\n",
              "    </tr>\n",
              "    <tr>\n",
              "      <th>25%</th>\n",
              "      <td>611.000000</td>\n",
              "      <td>2.000000</td>\n",
              "      <td>5.000000</td>\n",
              "    </tr>\n",
              "    <tr>\n",
              "      <th>50%</th>\n",
              "      <td>1250.000000</td>\n",
              "      <td>3.000000</td>\n",
              "      <td>7.000000</td>\n",
              "    </tr>\n",
              "    <tr>\n",
              "      <th>75%</th>\n",
              "      <td>2025.000000</td>\n",
              "      <td>6.000000</td>\n",
              "      <td>10.000000</td>\n",
              "    </tr>\n",
              "    <tr>\n",
              "      <th>max</th>\n",
              "      <td>2751.000000</td>\n",
              "      <td>25.000000</td>\n",
              "      <td>30.000000</td>\n",
              "    </tr>\n",
              "  </tbody>\n",
              "</table>\n",
              "</div>"
            ],
            "text/plain": [
              "       company_name_encoded      min_exp      max_exp\n",
              "count           6601.000000  6601.000000  6601.000000\n",
              "mean            1319.330707     4.264051     7.991819\n",
              "std              808.158350     3.331820     4.210189\n",
              "min                0.000000     0.000000     0.000000\n",
              "25%              611.000000     2.000000     5.000000\n",
              "50%             1250.000000     3.000000     7.000000\n",
              "75%             2025.000000     6.000000    10.000000\n",
              "max             2751.000000    25.000000    30.000000"
            ]
          },
          "metadata": {
            "tags": []
          },
          "execution_count": 69
        }
      ]
    },
    {
      "cell_type": "code",
      "metadata": {
        "id": "L1vbPoy0xHIx"
      },
      "source": [
        "#Label encoding\n",
        "from sklearn.preprocessing import LabelEncoder\n",
        "label = LabelEncoder()\n",
        "train['salary'] =label.fit_transform(train['salary'])"
      ],
      "execution_count": 70,
      "outputs": []
    },
    {
      "cell_type": "code",
      "metadata": {
        "colab": {
          "base_uri": "https://localhost:8080/",
          "height": 244
        },
        "id": "ENA1tpQz8E2n",
        "outputId": "93626fd9-d61b-490f-f1b4-0f1068bc7509"
      },
      "source": [
        "train.head(3)"
      ],
      "execution_count": 71,
      "outputs": [
        {
          "output_type": "execute_result",
          "data": {
            "text/html": [
              "<div>\n",
              "<style scoped>\n",
              "    .dataframe tbody tr th:only-of-type {\n",
              "        vertical-align: middle;\n",
              "    }\n",
              "\n",
              "    .dataframe tbody tr th {\n",
              "        vertical-align: top;\n",
              "    }\n",
              "\n",
              "    .dataframe thead th {\n",
              "        text-align: right;\n",
              "    }\n",
              "</style>\n",
              "<table border=\"1\" class=\"dataframe\">\n",
              "  <thead>\n",
              "    <tr style=\"text-align: right;\">\n",
              "      <th></th>\n",
              "      <th>salary</th>\n",
              "      <th>company_name_encoded</th>\n",
              "      <th>min_exp</th>\n",
              "      <th>max_exp</th>\n",
              "      <th>skills_cleaned</th>\n",
              "      <th>desig_cleaned</th>\n",
              "      <th>clean_descp</th>\n",
              "      <th>clean_loc</th>\n",
              "    </tr>\n",
              "  </thead>\n",
              "  <tbody>\n",
              "    <tr>\n",
              "      <th>0</th>\n",
              "      <td>5</td>\n",
              "      <td>3687</td>\n",
              "      <td>5</td>\n",
              "      <td>7</td>\n",
              "      <td>team skills communication skills analytical sk...</td>\n",
              "      <td>senior exploit and vulnerability researcher</td>\n",
              "      <td>exp minimum years good understanding of ioc ru...</td>\n",
              "      <td>delhi ncr vikas puri</td>\n",
              "    </tr>\n",
              "    <tr>\n",
              "      <th>1</th>\n",
              "      <td>1</td>\n",
              "      <td>458</td>\n",
              "      <td>10</td>\n",
              "      <td>17</td>\n",
              "      <td>ppc logistics inventory management supply chai...</td>\n",
              "      <td>head scm</td>\n",
              "      <td>he should have handled a team of atleast direc...</td>\n",
              "      <td>sonepat</td>\n",
              "    </tr>\n",
              "    <tr>\n",
              "      <th>2</th>\n",
              "      <td>2</td>\n",
              "      <td>4195</td>\n",
              "      <td>5</td>\n",
              "      <td>9</td>\n",
              "      <td>hr analytics employee engagement training succ...</td>\n",
              "      <td>deputy manager talent management leadership de...</td>\n",
              "      <td>must be an effective communicator written spok...</td>\n",
              "      <td>delhi ncr</td>\n",
              "    </tr>\n",
              "  </tbody>\n",
              "</table>\n",
              "</div>"
            ],
            "text/plain": [
              "   salary  ...              clean_loc\n",
              "0       5  ...  delhi ncr vikas puri \n",
              "1       1  ...                sonepat\n",
              "2       2  ...              delhi ncr\n",
              "\n",
              "[3 rows x 8 columns]"
            ]
          },
          "metadata": {
            "tags": []
          },
          "execution_count": 71
        }
      ]
    },
    {
      "cell_type": "code",
      "metadata": {
        "colab": {
          "base_uri": "https://localhost:8080/"
        },
        "id": "tVLzpeEuBg7l",
        "outputId": "9b8b38da-5228-4574-a59b-cb7d948d3c1f"
      },
      "source": [
        "train.info()"
      ],
      "execution_count": 78,
      "outputs": [
        {
          "output_type": "stream",
          "text": [
            "<class 'pandas.core.frame.DataFrame'>\n",
            "Int64Index: 19801 entries, 0 to 19801\n",
            "Data columns (total 8 columns):\n",
            " #   Column                Non-Null Count  Dtype \n",
            "---  ------                --------------  ----- \n",
            " 0   salary                19801 non-null  int64 \n",
            " 1   company_name_encoded  19801 non-null  int64 \n",
            " 2   min_exp               19801 non-null  int64 \n",
            " 3   max_exp               19801 non-null  int64 \n",
            " 4   skills_cleaned        19801 non-null  object\n",
            " 5   desig_cleaned         19801 non-null  object\n",
            " 6   clean_descp           19801 non-null  object\n",
            " 7   clean_loc             19801 non-null  object\n",
            "dtypes: int64(4), object(4)\n",
            "memory usage: 2.0+ MB\n"
          ],
          "name": "stdout"
        }
      ]
    },
    {
      "cell_type": "code",
      "metadata": {
        "colab": {
          "base_uri": "https://localhost:8080/",
          "height": 493
        },
        "id": "YoduFrfhBaKr",
        "outputId": "bf308581-addf-4131-ba57-915198aa8ee0"
      },
      "source": [
        "plt.figure(figsize=(7,5))\n",
        "sns.histplot(x='salary',y='min_exp',hue='salary',data=train,palette='Dark2_r')\n",
        "sns.set_style('darkgrid')\n",
        "plt.title('Salary vs Min_experience')"
      ],
      "execution_count": 87,
      "outputs": [
        {
          "output_type": "execute_result",
          "data": {
            "text/plain": [
              "Text(0.5, 1.0, 'Salary vs Min_experience')"
            ]
          },
          "metadata": {
            "tags": []
          },
          "execution_count": 87
        },
        {
          "output_type": "display_data",
          "data": {
            "image/png": "[encoded data removed]",
            "text/plain": [
              "<Figure size 700x500 with 1 Axes>"
            ]
          },
          "metadata": {
            "tags": []
          }
        }
      ]
    },
    {
      "cell_type": "code",
      "metadata": {
        "colab": {
          "base_uri": "https://localhost:8080/",
          "height": 493
        },
        "id": "L2tl9WO0CrUv",
        "outputId": "1f80afda-9e16-4909-c0d2-dd6f29f9446e"
      },
      "source": [
        "plt.figure(figsize=(8,5))\n",
        "sns.histplot(x='salary',y='max_exp',hue='salary',data=train,palette='Dark2_r')\n",
        "sns.set_style('darkgrid')\n",
        "plt.title('Salary vs Max_experience')"
      ],
      "execution_count": 86,
      "outputs": [
        {
          "output_type": "execute_result",
          "data": {
            "text/plain": [
              "Text(0.5, 1.0, 'Salary vs Max_experience')"
            ]
          },
          "metadata": {
            "tags": []
          },
          "execution_count": 86
        },
        {
          "output_type": "display_data",
          "data": {
            "image/png": "[encoded data removed]",
            "text/plain": [
              "<Figure size 800x500 with 1 Axes>"
            ]
          },
          "metadata": {
            "tags": []
          }
        }
      ]
    },
    {
      "cell_type": "code",
      "metadata": {
        "id": "Z3nkIwmrDmUD"
      },
      "source": [
        ""
      ],
      "execution_count": null,
      "outputs": []
    }
  ]
}